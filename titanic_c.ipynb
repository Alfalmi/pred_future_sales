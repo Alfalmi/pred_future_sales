{
 "cells": [
  {
   "cell_type": "code",
   "execution_count": 1,
   "metadata": {},
   "outputs": [],
   "source": [
    "import os\n",
    "import pandas as pd\n",
    "import numpy as np\n",
    "import matplotlib.pyplot as plt\n",
    "\n",
    "import seaborn as sns\n",
    "from sklearn.impute import SimpleImputer\n",
    "from sklearn.preprocessing import OneHotEncoder\n",
    "from sklearn.compose import ColumnTransformer\n",
    "from sklearn.pipeline import Pipeline\n",
    "from sklearn.ensemble import RandomForestClassifier, GradientBoostingClassifier\n",
    "from xgboost import XGBClassifier\n",
    "from catboost import CatBoostClassifier\n",
    "import joblib\n",
    "from sklearn.metrics import classification_report\n",
    "from sklearn.linear_model import LogisticRegression\n",
    "# explicitly require this experimental feature\n",
    "from sklearn.experimental import enable_halving_search_cv\n",
    "# now you can import normally from model_selection\n",
    "from sklearn.model_selection import HalvingGridSearchCV, RandomizedSearchCV,HalvingRandomSearchCV, GridSearchCV, cross_val_score\n",
    "\n",
    "pd.options.display.max_rows = None\n",
    "\n"
   ]
  },
  {
   "cell_type": "code",
   "execution_count": 2,
   "metadata": {},
   "outputs": [],
   "source": [
    "# Get path from training and test dataset\n",
    "\n",
    "curr_path = os.getcwd()\n",
    "dataset_src = os.path.join(curr_path, './dataset/dataset')\n",
    "train_path = os.path.join(dataset_src, 'train.csv')\n",
    "test_path = os.path.join(dataset_src, 'test.csv')\n"
   ]
  },
  {
   "cell_type": "code",
   "execution_count": 3,
   "metadata": {},
   "outputs": [
    {
     "ename": "FileNotFoundError",
     "evalue": "[Errno 2] No such file or directory: '/home/seru/datascience-master/kaggle/PredictFuturesSales/dataset/train.csv'",
     "output_type": "error",
     "traceback": [
      "\u001b[0;31m---------------------------------------------------------------------------\u001b[0m",
      "\u001b[0;31mFileNotFoundError\u001b[0m                         Traceback (most recent call last)",
      "Cell \u001b[0;32mIn[3], line 1\u001b[0m\n\u001b[0;32m----> 1\u001b[0m train_df \u001b[38;5;241m=\u001b[39m \u001b[43mpd\u001b[49m\u001b[38;5;241;43m.\u001b[39;49m\u001b[43mread_csv\u001b[49m\u001b[43m(\u001b[49m\u001b[43mtrain_path\u001b[49m\u001b[43m)\u001b[49m\n\u001b[1;32m      2\u001b[0m test_df \u001b[38;5;241m=\u001b[39m pd\u001b[38;5;241m.\u001b[39mread_csv(test_path)\n",
      "File \u001b[0;32m~/datascience-master/.venv/lib/python3.10/site-packages/pandas/io/parsers/readers.py:948\u001b[0m, in \u001b[0;36mread_csv\u001b[0;34m(filepath_or_buffer, sep, delimiter, header, names, index_col, usecols, dtype, engine, converters, true_values, false_values, skipinitialspace, skiprows, skipfooter, nrows, na_values, keep_default_na, na_filter, verbose, skip_blank_lines, parse_dates, infer_datetime_format, keep_date_col, date_parser, date_format, dayfirst, cache_dates, iterator, chunksize, compression, thousands, decimal, lineterminator, quotechar, quoting, doublequote, escapechar, comment, encoding, encoding_errors, dialect, on_bad_lines, delim_whitespace, low_memory, memory_map, float_precision, storage_options, dtype_backend)\u001b[0m\n\u001b[1;32m    935\u001b[0m kwds_defaults \u001b[38;5;241m=\u001b[39m _refine_defaults_read(\n\u001b[1;32m    936\u001b[0m     dialect,\n\u001b[1;32m    937\u001b[0m     delimiter,\n\u001b[0;32m   (...)\u001b[0m\n\u001b[1;32m    944\u001b[0m     dtype_backend\u001b[38;5;241m=\u001b[39mdtype_backend,\n\u001b[1;32m    945\u001b[0m )\n\u001b[1;32m    946\u001b[0m kwds\u001b[38;5;241m.\u001b[39mupdate(kwds_defaults)\n\u001b[0;32m--> 948\u001b[0m \u001b[38;5;28;01mreturn\u001b[39;00m \u001b[43m_read\u001b[49m\u001b[43m(\u001b[49m\u001b[43mfilepath_or_buffer\u001b[49m\u001b[43m,\u001b[49m\u001b[43m \u001b[49m\u001b[43mkwds\u001b[49m\u001b[43m)\u001b[49m\n",
      "File \u001b[0;32m~/datascience-master/.venv/lib/python3.10/site-packages/pandas/io/parsers/readers.py:611\u001b[0m, in \u001b[0;36m_read\u001b[0;34m(filepath_or_buffer, kwds)\u001b[0m\n\u001b[1;32m    608\u001b[0m _validate_names(kwds\u001b[38;5;241m.\u001b[39mget(\u001b[38;5;124m\"\u001b[39m\u001b[38;5;124mnames\u001b[39m\u001b[38;5;124m\"\u001b[39m, \u001b[38;5;28;01mNone\u001b[39;00m))\n\u001b[1;32m    610\u001b[0m \u001b[38;5;66;03m# Create the parser.\u001b[39;00m\n\u001b[0;32m--> 611\u001b[0m parser \u001b[38;5;241m=\u001b[39m \u001b[43mTextFileReader\u001b[49m\u001b[43m(\u001b[49m\u001b[43mfilepath_or_buffer\u001b[49m\u001b[43m,\u001b[49m\u001b[43m \u001b[49m\u001b[38;5;241;43m*\u001b[39;49m\u001b[38;5;241;43m*\u001b[39;49m\u001b[43mkwds\u001b[49m\u001b[43m)\u001b[49m\n\u001b[1;32m    613\u001b[0m \u001b[38;5;28;01mif\u001b[39;00m chunksize \u001b[38;5;129;01mor\u001b[39;00m iterator:\n\u001b[1;32m    614\u001b[0m     \u001b[38;5;28;01mreturn\u001b[39;00m parser\n",
      "File \u001b[0;32m~/datascience-master/.venv/lib/python3.10/site-packages/pandas/io/parsers/readers.py:1448\u001b[0m, in \u001b[0;36mTextFileReader.__init__\u001b[0;34m(self, f, engine, **kwds)\u001b[0m\n\u001b[1;32m   1445\u001b[0m     \u001b[38;5;28mself\u001b[39m\u001b[38;5;241m.\u001b[39moptions[\u001b[38;5;124m\"\u001b[39m\u001b[38;5;124mhas_index_names\u001b[39m\u001b[38;5;124m\"\u001b[39m] \u001b[38;5;241m=\u001b[39m kwds[\u001b[38;5;124m\"\u001b[39m\u001b[38;5;124mhas_index_names\u001b[39m\u001b[38;5;124m\"\u001b[39m]\n\u001b[1;32m   1447\u001b[0m \u001b[38;5;28mself\u001b[39m\u001b[38;5;241m.\u001b[39mhandles: IOHandles \u001b[38;5;241m|\u001b[39m \u001b[38;5;28;01mNone\u001b[39;00m \u001b[38;5;241m=\u001b[39m \u001b[38;5;28;01mNone\u001b[39;00m\n\u001b[0;32m-> 1448\u001b[0m \u001b[38;5;28mself\u001b[39m\u001b[38;5;241m.\u001b[39m_engine \u001b[38;5;241m=\u001b[39m \u001b[38;5;28;43mself\u001b[39;49m\u001b[38;5;241;43m.\u001b[39;49m\u001b[43m_make_engine\u001b[49m\u001b[43m(\u001b[49m\u001b[43mf\u001b[49m\u001b[43m,\u001b[49m\u001b[43m \u001b[49m\u001b[38;5;28;43mself\u001b[39;49m\u001b[38;5;241;43m.\u001b[39;49m\u001b[43mengine\u001b[49m\u001b[43m)\u001b[49m\n",
      "File \u001b[0;32m~/datascience-master/.venv/lib/python3.10/site-packages/pandas/io/parsers/readers.py:1705\u001b[0m, in \u001b[0;36mTextFileReader._make_engine\u001b[0;34m(self, f, engine)\u001b[0m\n\u001b[1;32m   1703\u001b[0m     \u001b[38;5;28;01mif\u001b[39;00m \u001b[38;5;124m\"\u001b[39m\u001b[38;5;124mb\u001b[39m\u001b[38;5;124m\"\u001b[39m \u001b[38;5;129;01mnot\u001b[39;00m \u001b[38;5;129;01min\u001b[39;00m mode:\n\u001b[1;32m   1704\u001b[0m         mode \u001b[38;5;241m+\u001b[39m\u001b[38;5;241m=\u001b[39m \u001b[38;5;124m\"\u001b[39m\u001b[38;5;124mb\u001b[39m\u001b[38;5;124m\"\u001b[39m\n\u001b[0;32m-> 1705\u001b[0m \u001b[38;5;28mself\u001b[39m\u001b[38;5;241m.\u001b[39mhandles \u001b[38;5;241m=\u001b[39m \u001b[43mget_handle\u001b[49m\u001b[43m(\u001b[49m\n\u001b[1;32m   1706\u001b[0m \u001b[43m    \u001b[49m\u001b[43mf\u001b[49m\u001b[43m,\u001b[49m\n\u001b[1;32m   1707\u001b[0m \u001b[43m    \u001b[49m\u001b[43mmode\u001b[49m\u001b[43m,\u001b[49m\n\u001b[1;32m   1708\u001b[0m \u001b[43m    \u001b[49m\u001b[43mencoding\u001b[49m\u001b[38;5;241;43m=\u001b[39;49m\u001b[38;5;28;43mself\u001b[39;49m\u001b[38;5;241;43m.\u001b[39;49m\u001b[43moptions\u001b[49m\u001b[38;5;241;43m.\u001b[39;49m\u001b[43mget\u001b[49m\u001b[43m(\u001b[49m\u001b[38;5;124;43m\"\u001b[39;49m\u001b[38;5;124;43mencoding\u001b[39;49m\u001b[38;5;124;43m\"\u001b[39;49m\u001b[43m,\u001b[49m\u001b[43m \u001b[49m\u001b[38;5;28;43;01mNone\u001b[39;49;00m\u001b[43m)\u001b[49m\u001b[43m,\u001b[49m\n\u001b[1;32m   1709\u001b[0m \u001b[43m    \u001b[49m\u001b[43mcompression\u001b[49m\u001b[38;5;241;43m=\u001b[39;49m\u001b[38;5;28;43mself\u001b[39;49m\u001b[38;5;241;43m.\u001b[39;49m\u001b[43moptions\u001b[49m\u001b[38;5;241;43m.\u001b[39;49m\u001b[43mget\u001b[49m\u001b[43m(\u001b[49m\u001b[38;5;124;43m\"\u001b[39;49m\u001b[38;5;124;43mcompression\u001b[39;49m\u001b[38;5;124;43m\"\u001b[39;49m\u001b[43m,\u001b[49m\u001b[43m \u001b[49m\u001b[38;5;28;43;01mNone\u001b[39;49;00m\u001b[43m)\u001b[49m\u001b[43m,\u001b[49m\n\u001b[1;32m   1710\u001b[0m \u001b[43m    \u001b[49m\u001b[43mmemory_map\u001b[49m\u001b[38;5;241;43m=\u001b[39;49m\u001b[38;5;28;43mself\u001b[39;49m\u001b[38;5;241;43m.\u001b[39;49m\u001b[43moptions\u001b[49m\u001b[38;5;241;43m.\u001b[39;49m\u001b[43mget\u001b[49m\u001b[43m(\u001b[49m\u001b[38;5;124;43m\"\u001b[39;49m\u001b[38;5;124;43mmemory_map\u001b[39;49m\u001b[38;5;124;43m\"\u001b[39;49m\u001b[43m,\u001b[49m\u001b[43m \u001b[49m\u001b[38;5;28;43;01mFalse\u001b[39;49;00m\u001b[43m)\u001b[49m\u001b[43m,\u001b[49m\n\u001b[1;32m   1711\u001b[0m \u001b[43m    \u001b[49m\u001b[43mis_text\u001b[49m\u001b[38;5;241;43m=\u001b[39;49m\u001b[43mis_text\u001b[49m\u001b[43m,\u001b[49m\n\u001b[1;32m   1712\u001b[0m \u001b[43m    \u001b[49m\u001b[43merrors\u001b[49m\u001b[38;5;241;43m=\u001b[39;49m\u001b[38;5;28;43mself\u001b[39;49m\u001b[38;5;241;43m.\u001b[39;49m\u001b[43moptions\u001b[49m\u001b[38;5;241;43m.\u001b[39;49m\u001b[43mget\u001b[49m\u001b[43m(\u001b[49m\u001b[38;5;124;43m\"\u001b[39;49m\u001b[38;5;124;43mencoding_errors\u001b[39;49m\u001b[38;5;124;43m\"\u001b[39;49m\u001b[43m,\u001b[49m\u001b[43m \u001b[49m\u001b[38;5;124;43m\"\u001b[39;49m\u001b[38;5;124;43mstrict\u001b[39;49m\u001b[38;5;124;43m\"\u001b[39;49m\u001b[43m)\u001b[49m\u001b[43m,\u001b[49m\n\u001b[1;32m   1713\u001b[0m \u001b[43m    \u001b[49m\u001b[43mstorage_options\u001b[49m\u001b[38;5;241;43m=\u001b[39;49m\u001b[38;5;28;43mself\u001b[39;49m\u001b[38;5;241;43m.\u001b[39;49m\u001b[43moptions\u001b[49m\u001b[38;5;241;43m.\u001b[39;49m\u001b[43mget\u001b[49m\u001b[43m(\u001b[49m\u001b[38;5;124;43m\"\u001b[39;49m\u001b[38;5;124;43mstorage_options\u001b[39;49m\u001b[38;5;124;43m\"\u001b[39;49m\u001b[43m,\u001b[49m\u001b[43m \u001b[49m\u001b[38;5;28;43;01mNone\u001b[39;49;00m\u001b[43m)\u001b[49m\u001b[43m,\u001b[49m\n\u001b[1;32m   1714\u001b[0m \u001b[43m\u001b[49m\u001b[43m)\u001b[49m\n\u001b[1;32m   1715\u001b[0m \u001b[38;5;28;01massert\u001b[39;00m \u001b[38;5;28mself\u001b[39m\u001b[38;5;241m.\u001b[39mhandles \u001b[38;5;129;01mis\u001b[39;00m \u001b[38;5;129;01mnot\u001b[39;00m \u001b[38;5;28;01mNone\u001b[39;00m\n\u001b[1;32m   1716\u001b[0m f \u001b[38;5;241m=\u001b[39m \u001b[38;5;28mself\u001b[39m\u001b[38;5;241m.\u001b[39mhandles\u001b[38;5;241m.\u001b[39mhandle\n",
      "File \u001b[0;32m~/datascience-master/.venv/lib/python3.10/site-packages/pandas/io/common.py:863\u001b[0m, in \u001b[0;36mget_handle\u001b[0;34m(path_or_buf, mode, encoding, compression, memory_map, is_text, errors, storage_options)\u001b[0m\n\u001b[1;32m    858\u001b[0m \u001b[38;5;28;01melif\u001b[39;00m \u001b[38;5;28misinstance\u001b[39m(handle, \u001b[38;5;28mstr\u001b[39m):\n\u001b[1;32m    859\u001b[0m     \u001b[38;5;66;03m# Check whether the filename is to be opened in binary mode.\u001b[39;00m\n\u001b[1;32m    860\u001b[0m     \u001b[38;5;66;03m# Binary mode does not support 'encoding' and 'newline'.\u001b[39;00m\n\u001b[1;32m    861\u001b[0m     \u001b[38;5;28;01mif\u001b[39;00m ioargs\u001b[38;5;241m.\u001b[39mencoding \u001b[38;5;129;01mand\u001b[39;00m \u001b[38;5;124m\"\u001b[39m\u001b[38;5;124mb\u001b[39m\u001b[38;5;124m\"\u001b[39m \u001b[38;5;129;01mnot\u001b[39;00m \u001b[38;5;129;01min\u001b[39;00m ioargs\u001b[38;5;241m.\u001b[39mmode:\n\u001b[1;32m    862\u001b[0m         \u001b[38;5;66;03m# Encoding\u001b[39;00m\n\u001b[0;32m--> 863\u001b[0m         handle \u001b[38;5;241m=\u001b[39m \u001b[38;5;28;43mopen\u001b[39;49m\u001b[43m(\u001b[49m\n\u001b[1;32m    864\u001b[0m \u001b[43m            \u001b[49m\u001b[43mhandle\u001b[49m\u001b[43m,\u001b[49m\n\u001b[1;32m    865\u001b[0m \u001b[43m            \u001b[49m\u001b[43mioargs\u001b[49m\u001b[38;5;241;43m.\u001b[39;49m\u001b[43mmode\u001b[49m\u001b[43m,\u001b[49m\n\u001b[1;32m    866\u001b[0m \u001b[43m            \u001b[49m\u001b[43mencoding\u001b[49m\u001b[38;5;241;43m=\u001b[39;49m\u001b[43mioargs\u001b[49m\u001b[38;5;241;43m.\u001b[39;49m\u001b[43mencoding\u001b[49m\u001b[43m,\u001b[49m\n\u001b[1;32m    867\u001b[0m \u001b[43m            \u001b[49m\u001b[43merrors\u001b[49m\u001b[38;5;241;43m=\u001b[39;49m\u001b[43merrors\u001b[49m\u001b[43m,\u001b[49m\n\u001b[1;32m    868\u001b[0m \u001b[43m            \u001b[49m\u001b[43mnewline\u001b[49m\u001b[38;5;241;43m=\u001b[39;49m\u001b[38;5;124;43m\"\u001b[39;49m\u001b[38;5;124;43m\"\u001b[39;49m\u001b[43m,\u001b[49m\n\u001b[1;32m    869\u001b[0m \u001b[43m        \u001b[49m\u001b[43m)\u001b[49m\n\u001b[1;32m    870\u001b[0m     \u001b[38;5;28;01melse\u001b[39;00m:\n\u001b[1;32m    871\u001b[0m         \u001b[38;5;66;03m# Binary mode\u001b[39;00m\n\u001b[1;32m    872\u001b[0m         handle \u001b[38;5;241m=\u001b[39m \u001b[38;5;28mopen\u001b[39m(handle, ioargs\u001b[38;5;241m.\u001b[39mmode)\n",
      "\u001b[0;31mFileNotFoundError\u001b[0m: [Errno 2] No such file or directory: '/home/seru/datascience-master/kaggle/PredictFuturesSales/dataset/train.csv'"
     ]
    }
   ],
   "source": [
    "train_df = pd.read_csv(train_path)\n",
    "test_df = pd.read_csv(test_path)"
   ]
  },
  {
   "cell_type": "code",
   "execution_count": null,
   "metadata": {},
   "outputs": [],
   "source": [
    "train_df.head()"
   ]
  },
  {
   "cell_type": "markdown",
   "metadata": {},
   "source": [
    "Exploratory Analysis"
   ]
  },
  {
   "cell_type": "code",
   "execution_count": null,
   "metadata": {},
   "outputs": [],
   "source": [
    "# Missing values?\n",
    "\n",
    "train_df.info()\n",
    "\n"
   ]
  },
  {
   "cell_type": "code",
   "execution_count": 73,
   "metadata": {},
   "outputs": [
    {
     "name": "stdout",
     "output_type": "stream",
     "text": [
      "PassengerId       0\n",
      "HomePlanet      201\n",
      "CryoSleep       217\n",
      "Cabin           199\n",
      "Destination     182\n",
      "Age             179\n",
      "VIP             203\n",
      "RoomService     181\n",
      "FoodCourt       183\n",
      "ShoppingMall    208\n",
      "Spa             183\n",
      "VRDeck          188\n",
      "Name            200\n",
      "Transported       0\n",
      "dtype: int64\n",
      "-----------\n",
      "-----------\n",
      "PassengerId       0\n",
      "HomePlanet       87\n",
      "CryoSleep        93\n",
      "Cabin           100\n",
      "Destination      92\n",
      "Age              91\n",
      "VIP              93\n",
      "RoomService      82\n",
      "FoodCourt       106\n",
      "ShoppingMall     98\n",
      "Spa             101\n",
      "VRDeck           80\n",
      "Name             94\n",
      "dtype: int64\n"
     ]
    }
   ],
   "source": [
    "print(train_df.isnull().sum())\n",
    "print('-----------')\n",
    "print('-----------')\n",
    "print(test_df.isnull().sum())"
   ]
  },
  {
   "cell_type": "code",
   "execution_count": 84,
   "metadata": {},
   "outputs": [
    {
     "name": "stdout",
     "output_type": "stream",
     "text": [
      "0.020591280340503854\n"
     ]
    }
   ],
   "source": [
    "print(train_df.Age.isnull().sum() / len(train_df))"
   ]
  },
  {
   "cell_type": "code",
   "execution_count": 82,
   "metadata": {},
   "outputs": [
    {
     "name": "stderr",
     "output_type": "stream",
     "text": [
      "/tmp/ipykernel_10839/3223609532.py:11: UserWarning: \n",
      "\n",
      "`distplot` is a deprecated function and will be removed in seaborn v0.14.0.\n",
      "\n",
      "Please adapt your code to use either `displot` (a figure-level function with\n",
      "similar flexibility) or `histplot` (an axes-level function for histograms).\n",
      "\n",
      "For a guide to updating your code to use the new functions, please see\n",
      "https://gist.github.com/mwaskom/de44147ed2974457ad6372750bbe5751\n",
      "\n",
      "  sns.distplot(train_df.Age.fillna(200))\n"
     ]
    },
    {
     "data": {
      "text/plain": [
       "<Axes: xlabel='Age', ylabel='Density'>"
      ]
     },
     "execution_count": 82,
     "metadata": {},
     "output_type": "execute_result"
    },
    {
     "data": {
      "image/png": "[encoded data removed]",
      "text/plain": [
       "<Figure size 640x480 with 1 Axes>"
      ]
     },
     "metadata": {},
     "output_type": "display_data"
    }
   ],
   "source": [
    "'''\n",
    "Only 20% of the age data is missing. So, we need to fill the missing values. To do so, we can apply different methodologies:\n",
    "- Take the mean of the age values\n",
    "- Take random number with a normal law N(mean, std deviation) of the age\n",
    "- Split the people in smaller group and then take the mean of these subgroups using categorical features - > the one I chose.\n",
    "- Split the people in smaller group and then take random number with a normal law N(mean, std deviation) of the age within each subgroup\n",
    "\n",
    "We'll use the third one.\n",
    "'''\n",
    "\n",
    "sns.distplot(train_df.Age.fillna(200))"
   ]
  },
  {
   "cell_type": "code",
   "execution_count": 85,
   "metadata": {},
   "outputs": [
    {
     "name": "stdout",
     "output_type": "stream",
     "text": [
      "They are 13 features in the dataset.\n",
      "----------------\n",
      "feature: PassengerId || Type: <class 'str'> || Example: 0001_01 || number of unique values 8693\n",
      "feature: HomePlanet || Type: <class 'str'> || Example: Europa || number of unique values 4\n",
      "feature: CryoSleep || Type: <class 'bool'> || Example: False || number of unique values 3\n",
      "feature: Cabin || Type: <class 'str'> || Example: B/0/P || number of unique values 6561\n",
      "feature: Destination || Type: <class 'str'> || Example: TRAPPIST-1e || number of unique values 4\n",
      "feature: Age || Type: <class 'numpy.float64'> || Example: 39.0 || number of unique values 81\n",
      "feature: VIP || Type: <class 'bool'> || Example: False || number of unique values 3\n",
      "feature: RoomService || Type: <class 'numpy.float64'> || Example: 0.0 || number of unique values 1274\n",
      "feature: FoodCourt || Type: <class 'numpy.float64'> || Example: 0.0 || number of unique values 1508\n",
      "feature: ShoppingMall || Type: <class 'numpy.float64'> || Example: 0.0 || number of unique values 1116\n",
      "feature: Spa || Type: <class 'numpy.float64'> || Example: 0.0 || number of unique values 1328\n",
      "feature: VRDeck || Type: <class 'numpy.float64'> || Example: 0.0 || number of unique values 1307\n",
      "feature: Name || Type: <class 'str'> || Example: Maham Ofracculy || number of unique values 8474\n"
     ]
    }
   ],
   "source": [
    "list_features = test_df.columns\n",
    "print('They are',len(list_features),'features in the dataset.')\n",
    "print('----------------')\n",
    "for f in list_features:\n",
    "    print('feature:', f, '|| Type:', type(train_df[f][0]), '|| Example:', train_df[f][0], '|| number of unique values', len(train_df[f].unique()) )"
   ]
  },
  {
   "cell_type": "code",
   "execution_count": null,
   "metadata": {},
   "outputs": [],
   "source": [
    "# Define function that creates missing value heatmap\n",
    "\n",
    "def plot_missing_data(dataset, title, figsize=(5,5)):\n",
    "    \"\"\"\n",
    "    This function plots a heatmap of the missing values in the dataset.\n",
    "    \n",
    "    Parameters:\n",
    "    dataset (pd.DataFrame): The dataset to be plotted.\n",
    "    title (str): The title of the plot.\n",
    "    figsize (tuple): The size of the figure (optional).\n",
    "    \"\"\"\n",
    "    # Error handling\n",
    "    if not isinstance(dataset, pd.DataFrame):\n",
    "        raise ValueError(\"dataset must be a pandas DataFrame\")\n",
    "    if not isinstance(title, str):\n",
    "        raise ValueError(\"title must be a string\")\n",
    "    \n",
    "    fig, ax = plt.subplots(figsize=figsize)\n",
    "    plt.title(title)\n",
    "    sns.heatmap(dataset.isnull(), cbar=False)\n",
    "\n",
    "# Usage\n",
    "plot_missing_data(train_df, 'Training Dataset', figsize=(15,7))\n",
    "\n",
    "\n",
    "# def plot_missing_data(dataset, title):\n",
    "#     fig, ax = plt.subplots(figsize=(5,5))\n",
    "#     plt.title(title)\n",
    "#     sns.heatmap(dataset.isnull(), cbar=False)\n",
    "\n",
    "# plot_missing_data(train_df, 'Training Dataset')\n",
    "\n",
    "# From the above plots, it can be seen that the training and similarly the test datasets contain features with missing values. The sparsest features are “age” and “cabin”.\n",
    "\n",
    "# A naive approach to solve this problem would be to remove the feature completely from the dataset. \n",
    "# However, since we do not know how much information these they provide they further investigation is needed. \n",
    "# Maybe we find that it would make sense to impute the missing values using sophisticated data imputation methods."
   ]
  },
  {
   "cell_type": "code",
   "execution_count": 7,
   "metadata": {},
   "outputs": [
    {
     "data": {
      "text/plain": [
       "Transported\n",
       "True     4378\n",
       "False    4315\n",
       "Name: count, dtype: int64"
      ]
     },
     "execution_count": 7,
     "metadata": {},
     "output_type": "execute_result"
    }
   ],
   "source": [
    "# Question 1: How many passengers transported?\n",
    "\n",
    "train_df['Transported'].value_counts()\n"
   ]
  },
  {
   "cell_type": "code",
   "execution_count": 60,
   "metadata": {},
   "outputs": [
    {
     "data": {
      "text/plain": [
       "Transported\n",
       "True     0.503624\n",
       "False    0.496376\n",
       "Name: proportion, dtype: float64"
      ]
     },
     "execution_count": 60,
     "metadata": {},
     "output_type": "execute_result"
    }
   ],
   "source": [
    "\n",
    "train_df['Transported'].value_counts(normalize=True)"
   ]
  },
  {
   "cell_type": "code",
   "execution_count": 61,
   "metadata": {},
   "outputs": [
    {
     "name": "stdout",
     "output_type": "stream",
     "text": [
      "Index(['PassengerId', 'HomePlanet', 'CryoSleep', 'Cabin', 'Destination', 'Age',\n",
      "       'VIP', 'RoomService', 'FoodCourt', 'ShoppingMall', 'Spa', 'VRDeck',\n",
      "       'Name', 'Transported'],\n",
      "      dtype='object')\n",
      "number of features 14\n",
      "8693 records for the training dataset. \n",
      "\n",
      "Index(['PassengerId', 'HomePlanet', 'CryoSleep', 'Cabin', 'Destination', 'Age',\n",
      "       'VIP', 'RoomService', 'FoodCourt', 'ShoppingMall', 'Spa', 'VRDeck',\n",
      "       'Name'],\n",
      "      dtype='object')\n",
      "number of features 13\n",
      "4277 records for the testing dataset. \n"
     ]
    },
    {
     "data": {
      "text/html": [
       "<div>\n",
       "<style scoped>\n",
       "    .dataframe tbody tr th:only-of-type {\n",
       "        vertical-align: middle;\n",
       "    }\n",
       "\n",
       "    .dataframe tbody tr th {\n",
       "        vertical-align: top;\n",
       "    }\n",
       "\n",
       "    .dataframe thead th {\n",
       "        text-align: right;\n",
       "    }\n",
       "</style>\n",
       "<table border=\"1\" class=\"dataframe\">\n",
       "  <thead>\n",
       "    <tr style=\"text-align: right;\">\n",
       "      <th></th>\n",
       "      <th>PassengerId</th>\n",
       "      <th>HomePlanet</th>\n",
       "      <th>CryoSleep</th>\n",
       "      <th>Cabin</th>\n",
       "      <th>Destination</th>\n",
       "      <th>Age</th>\n",
       "      <th>VIP</th>\n",
       "      <th>RoomService</th>\n",
       "      <th>FoodCourt</th>\n",
       "      <th>ShoppingMall</th>\n",
       "      <th>Spa</th>\n",
       "      <th>VRDeck</th>\n",
       "      <th>Name</th>\n",
       "      <th>Transported</th>\n",
       "    </tr>\n",
       "  </thead>\n",
       "  <tbody>\n",
       "    <tr>\n",
       "      <th>0</th>\n",
       "      <td>0001_01</td>\n",
       "      <td>Europa</td>\n",
       "      <td>False</td>\n",
       "      <td>B/0/P</td>\n",
       "      <td>TRAPPIST-1e</td>\n",
       "      <td>39.0</td>\n",
       "      <td>False</td>\n",
       "      <td>0.0</td>\n",
       "      <td>0.0</td>\n",
       "      <td>0.0</td>\n",
       "      <td>0.0</td>\n",
       "      <td>0.0</td>\n",
       "      <td>Maham Ofracculy</td>\n",
       "      <td>False</td>\n",
       "    </tr>\n",
       "    <tr>\n",
       "      <th>1</th>\n",
       "      <td>0002_01</td>\n",
       "      <td>Earth</td>\n",
       "      <td>False</td>\n",
       "      <td>F/0/S</td>\n",
       "      <td>TRAPPIST-1e</td>\n",
       "      <td>24.0</td>\n",
       "      <td>False</td>\n",
       "      <td>109.0</td>\n",
       "      <td>9.0</td>\n",
       "      <td>25.0</td>\n",
       "      <td>549.0</td>\n",
       "      <td>44.0</td>\n",
       "      <td>Juanna Vines</td>\n",
       "      <td>True</td>\n",
       "    </tr>\n",
       "    <tr>\n",
       "      <th>2</th>\n",
       "      <td>0003_01</td>\n",
       "      <td>Europa</td>\n",
       "      <td>False</td>\n",
       "      <td>A/0/S</td>\n",
       "      <td>TRAPPIST-1e</td>\n",
       "      <td>58.0</td>\n",
       "      <td>True</td>\n",
       "      <td>43.0</td>\n",
       "      <td>3576.0</td>\n",
       "      <td>0.0</td>\n",
       "      <td>6715.0</td>\n",
       "      <td>49.0</td>\n",
       "      <td>Altark Susent</td>\n",
       "      <td>False</td>\n",
       "    </tr>\n",
       "    <tr>\n",
       "      <th>3</th>\n",
       "      <td>0003_02</td>\n",
       "      <td>Europa</td>\n",
       "      <td>False</td>\n",
       "      <td>A/0/S</td>\n",
       "      <td>TRAPPIST-1e</td>\n",
       "      <td>33.0</td>\n",
       "      <td>False</td>\n",
       "      <td>0.0</td>\n",
       "      <td>1283.0</td>\n",
       "      <td>371.0</td>\n",
       "      <td>3329.0</td>\n",
       "      <td>193.0</td>\n",
       "      <td>Solam Susent</td>\n",
       "      <td>False</td>\n",
       "    </tr>\n",
       "    <tr>\n",
       "      <th>4</th>\n",
       "      <td>0004_01</td>\n",
       "      <td>Earth</td>\n",
       "      <td>False</td>\n",
       "      <td>F/1/S</td>\n",
       "      <td>TRAPPIST-1e</td>\n",
       "      <td>16.0</td>\n",
       "      <td>False</td>\n",
       "      <td>303.0</td>\n",
       "      <td>70.0</td>\n",
       "      <td>151.0</td>\n",
       "      <td>565.0</td>\n",
       "      <td>2.0</td>\n",
       "      <td>Willy Santantines</td>\n",
       "      <td>True</td>\n",
       "    </tr>\n",
       "  </tbody>\n",
       "</table>\n",
       "</div>"
      ],
      "text/plain": [
       "  PassengerId HomePlanet CryoSleep  Cabin  Destination   Age    VIP  \\\n",
       "0     0001_01     Europa     False  B/0/P  TRAPPIST-1e  39.0  False   \n",
       "1     0002_01      Earth     False  F/0/S  TRAPPIST-1e  24.0  False   \n",
       "2     0003_01     Europa     False  A/0/S  TRAPPIST-1e  58.0   True   \n",
       "3     0003_02     Europa     False  A/0/S  TRAPPIST-1e  33.0  False   \n",
       "4     0004_01      Earth     False  F/1/S  TRAPPIST-1e  16.0  False   \n",
       "\n",
       "   RoomService  FoodCourt  ShoppingMall     Spa  VRDeck               Name  \\\n",
       "0          0.0        0.0           0.0     0.0     0.0    Maham Ofracculy   \n",
       "1        109.0        9.0          25.0   549.0    44.0       Juanna Vines   \n",
       "2         43.0     3576.0           0.0  6715.0    49.0      Altark Susent   \n",
       "3          0.0     1283.0         371.0  3329.0   193.0       Solam Susent   \n",
       "4        303.0       70.0         151.0   565.0     2.0  Willy Santantines   \n",
       "\n",
       "   Transported  \n",
       "0        False  \n",
       "1         True  \n",
       "2        False  \n",
       "3        False  \n",
       "4         True  "
      ]
     },
     "execution_count": 61,
     "metadata": {},
     "output_type": "execute_result"
    }
   ],
   "source": [
    "print(train_df.columns)\n",
    "print('number of features', len(train_df.columns))\n",
    "print(len(train_df), 'records for the training dataset.', '\\n')\n",
    "print(test_df.columns)\n",
    "print('number of features', len(test_df.columns))\n",
    "print(len(test_df), 'records for the testing dataset. ')\n"
   ]
  },
  {
   "cell_type": "code",
   "execution_count": null,
   "metadata": {},
   "outputs": [],
   "source": [
    "def bar_chart_stacked(dataset, feature, stacked=True, figsize=(5,5)):\n",
    "    \"\"\"\n",
    "    This function plots a stacked bar chart of the feature in the dataset.\n",
    "    \n",
    "    Parameters:\n",
    "    dataset (pd.DataFrame): The dataset to be plotted.\n",
    "    feature (str): The feature in the dataset to be plotted.\n",
    "    stacked (bool): Whether the bar chart should be stacked.\n",
    "    figsize (tuple): The size of the figure (optional).\n",
    "    \"\"\"\n",
    "    # Error handling\n",
    "    if not isinstance(dataset, pd.DataFrame):\n",
    "        raise ValueError(\"dataset must be a pandas DataFrame\")\n",
    "    if not isinstance(feature, str):\n",
    "        raise ValueError(\"feature must be a string\")\n",
    "    \n",
    "    transported = dataset[dataset['Transported']==1][feature].value_counts()\n",
    "    not_transported = dataset[dataset['Transported']==0][feature].value_counts()\n",
    "    df_transported_not_transported = pd.DataFrame([transported, not_transported])\n",
    "    df_transported_not_transported.index = ['Passengers Transported', 'Passengers not Transported']\n",
    "    ax = df_transported_not_transported.plot(kind='bar', stacked=stacked, figsize=figsize)\n",
    "\n",
    "# Usage\n",
    "bar_chart_stacked(train_df, 'Transported', figsize=(10,5))\n"
   ]
  },
  {
   "cell_type": "code",
   "execution_count": null,
   "metadata": {},
   "outputs": [],
   "source": [
    "#  Question 2: Is dependent of the HomePlanet?\n",
    "# train_df.head(10)\n",
    "train_df['HomePlanet'].value_counts().to_frame()"
   ]
  },
  {
   "cell_type": "code",
   "execution_count": null,
   "metadata": {},
   "outputs": [],
   "source": [
    "def print_transported_ratio(dataset, feature):\n",
    "    \"\"\"\n",
    "    This function prints the mean transported ratio for the given feature in the dataset.\n",
    "    \n",
    "    Parameters:\n",
    "    dataset (pd.DataFrame): The dataset to be analyzed.\n",
    "    feature (str): The feature in the dataset to be analyzed.\n",
    "    \"\"\"\n",
    "    # Error handling\n",
    "    if not isinstance(dataset, pd.DataFrame):\n",
    "        raise ValueError(\"dataset must be a pandas DataFrame\")\n",
    "    if not isinstance(feature, str):\n",
    "        raise ValueError(\"feature must be a string\")\n",
    "    \n",
    "    # Calculate and print the transported ratio\n",
    "    transported_ratio = dataset.groupby(feature).Transported.mean()\n",
    "    print(f\"Transported ratio based on {feature}:\\n{transported_ratio}\\n\")\n",
    "\n",
    "# Usage\n",
    "print_transported_ratio(train_df, 'HomePlanet')\n",
    "print_transported_ratio(train_df, 'VIP')\n",
    "print_transported_ratio(train_df, 'CryoSleep')\n",
    "print_transported_ratio(train_df, 'Destination')\n"
   ]
  },
  {
   "cell_type": "code",
   "execution_count": null,
   "metadata": {},
   "outputs": [],
   "source": [
    "def bar_chart_stacked(dataset, features, stacked=True, figsize=(5,5)):\n",
    "    \"\"\"\n",
    "    This function plots a stacked bar chart of the features in the dataset.\n",
    "    \n",
    "    Parameters:\n",
    "    dataset (pd.DataFrame): The dataset to be plotted.\n",
    "    features (list): The list of features in the dataset to be plotted.\n",
    "    stacked (bool): Whether the bar chart should be stacked.\n",
    "    figsize (tuple): The size of the figure (optional).\n",
    "    \"\"\"\n",
    "    # Error handling\n",
    "    if not isinstance(dataset, pd.DataFrame):\n",
    "        raise ValueError(\"dataset must be a pandas DataFrame\")\n",
    "    if not isinstance(features, list):\n",
    "        raise ValueError(\"features must be a list of strings\")\n",
    "    \n",
    "    for feature in features:\n",
    "        transported = dataset[dataset['Transported']==1][feature].value_counts()\n",
    "        not_transported = dataset[dataset['Transported']==0][feature].value_counts()\n",
    "        df_transported_not_transported = pd.DataFrame([transported, not_transported])\n",
    "        df_transported_not_transported.index = ['Passengers Transported', 'Passengers not Transported']\n",
    "        ax = df_transported_not_transported.plot(kind='bar', stacked=stacked, figsize=figsize)\n",
    "        plt.title(f\"Transported ratio based on {feature}\")\n",
    "        plt.show()\n",
    "\n",
    "# Usage\n",
    "features = ['VIP', 'HomePlanet', 'CryoSleep', 'Destination']\n",
    "bar_chart_stacked(train_df, features, figsize=(10,10))\n"
   ]
  },
  {
   "cell_type": "code",
   "execution_count": null,
   "metadata": {},
   "outputs": [],
   "source": [
    "print(train_df.head())"
   ]
  },
  {
   "cell_type": "code",
   "execution_count": null,
   "metadata": {
    "notebookRunGroups": {
     "groupValue": ""
    }
   },
   "outputs": [],
   "source": [
    "\n",
    "# Passenger count with respect to HomePlanet\n",
    "print(pd.pivot_table(train_df, index= 'Transported', columns = 'HomePlanet', values= 'Destination', aggfunc = 'count'), '\\n'\n",
    ")\n",
    "# Passenger count with respect to Destination\n",
    "# print(pd.pivot_table(train_df, index= 'Transported', columns = 'Destination', values= 'Destination', aggfunc = 'count'), '\\n'\n",
    "# )\n",
    "# Passenger count with respect to VIP\n",
    "# print(pd.pivot_table(train_df, index= 'Transported', columns = 'VIP', values= 'Destination', aggfunc = 'count'), '\\n'\n",
    "# )\n",
    "\n",
    "# Passenger count with respect to CryoSleep\n",
    "# print(pd.pivot_table(train_df, index= 'Transported', columns = 'CryoSleep', values= 'Destination', aggfunc = 'count'), '\\n'\n",
    "# )\n",
    "\n",
    "\n"
   ]
  },
  {
   "cell_type": "code",
   "execution_count": null,
   "metadata": {},
   "outputs": [],
   "source": [
    "# Passenger HomePlanet distribution\n",
    "print(train_df.groupby(['HomePlanet']).Transported.mean().to_frame())\n",
    "\n",
    "# Passenger Destination distribution\n",
    "print(train_df.groupby(['Destination']).Transported.mean().to_frame())\n",
    "\n",
    "# Passenger VIP distribution\n",
    "print(train_df.groupby(['VIP']).Transported.mean().to_frame())\n",
    "\n",
    "# Passenger CryoSleep distribution\n",
    "print(train_df.groupby(['CryoSleep']).Transported.mean().to_frame())\n",
    "\n"
   ]
  },
  {
   "cell_type": "code",
   "execution_count": null,
   "metadata": {},
   "outputs": [],
   "source": []
  },
  {
   "cell_type": "code",
   "execution_count": null,
   "metadata": {},
   "outputs": [],
   "source": [
    "'''\n",
    "Key observations:\n",
    "\n",
    "Most passenger had class 3 tickets, yet only 24% of class 3 passengers survived.\n",
    "Almost 63% of the passenger from class 1 survived.\n",
    "Approx 50% of the class 2 passenger survived.\n",
    "'''"
   ]
  },
  {
   "cell_type": "code",
   "execution_count": null,
   "metadata": {},
   "outputs": [],
   "source": [
    "# Question 4: Is the higher survival rate in Class 1 due to the class itself or due to a skewed gender distribution in which female passengers dominate?\n",
    "\n",
    "# Function that plots bar chart with multiple features\n",
    "\n",
    "def bar_chart_compare(dataset, feature1, feature2=None):\n",
    "    plt.figure(figsize=[5,5])\n",
    "    plt.title('Survival rate sex and class')\n",
    "    g = sns.barplot(x=feature1, y='Survived', hue=feature2, ci=None, data=dataset).set_ylabel('Survival rate')"
   ]
  },
  {
   "cell_type": "code",
   "execution_count": null,
   "metadata": {},
   "outputs": [],
   "source": [
    "# Percentage of male and female survivors with respect to gender\n",
    "\n",
    "train_df.groupby(['Pclass', 'Sex']).Survived.mean().to_frame()"
   ]
  },
  {
   "cell_type": "code",
   "execution_count": null,
   "metadata": {},
   "outputs": [],
   "source": [
    "'''\n",
    "Key observations:\n",
    "\n",
    "Survival Rate females 1. Class: 96,8%\n",
    "Survival Rate females 2. Class: 92,1%\n",
    "Survival Rate females 3. Class: 50%\n",
    "Survival Rate male 1. Class: 36.8%\n",
    "(still significantly lower than 3. class females)\n",
    "'''"
   ]
  },
  {
   "cell_type": "code",
   "execution_count": null,
   "metadata": {},
   "outputs": [],
   "source": [
    "# Question 5: Did a passengers age influence the chance of survival?\n",
    "\n",
    "# Utility function for plotting a histogram and the kernel density estimate\n",
    "\n",
    "def plot_distribution(dataset, feature, title, bins = 30, hist = True, fsize = (5,5)):\n",
    "    fig, ax = plt.subplots(figsize=fsize)\n",
    "    ax.set_title(title)\n",
    "    sns.distplot(train_df[feature], color='g', bins=bins, ax=ax)\n",
    "    # sns.histplot(train_df[feature], color='g', bins=bins, ax=ax, kde=True, stat=\"density\", kde_kws=dict(cut=3))\n",
    "\n",
    "\n",
    "def plot_kernel_density_estimate_survivors(dataset, feature1, title, fsize = (5,5)):\n",
    "    fig, ax = plt.subplots(figsize=fsize)\n",
    "    ax.set_title(title)\n",
    "    sns.kdeplot(dataset[feature1].loc[train_df['Survived'] == 1],\n",
    "                shade = True, ax=ax, label='Survived').set_xlabel(feature1)\n",
    "    sns.kdeplot(dataset[feature1].loc[train_df['Survived'] == 0],\n",
    "                shade = True, ax=ax, label='Died')\n",
    "  \n"
   ]
  },
  {
   "cell_type": "code",
   "execution_count": null,
   "metadata": {},
   "outputs": [],
   "source": [
    "# Age distribution\n",
    "\n",
    "plot_distribution(train_df, 'Age', 'Age Distribution Passengers')"
   ]
  },
  {
   "cell_type": "code",
   "execution_count": null,
   "metadata": {},
   "outputs": [],
   "source": [
    "# Age kernel density\n",
    "plot_kernel_density_estimate_survivors(train_df, 'Age', 'Age Distribution Survived vs Died')"
   ]
  },
  {
   "cell_type": "code",
   "execution_count": null,
   "metadata": {},
   "outputs": [],
   "source": [
    "# Function for creating a swarm plot\n",
    "\n",
    "def plot_swarm_survivors(dataset, feature1, feature2, title, fsize = (155)):\n",
    "    fig, ax = plt.subplots(figsize=(18,5))\n",
    "    # Turns off grid on the left Axis\n",
    "    ax.grid(True)\n",
    "    plt.xticks(list(range(0,100,2)))\n",
    "    sns.swarmplot(y=feature1, x=feature2, hue='Survived', data=train_df).set_title(title)"
   ]
  },
  {
   "cell_type": "code",
   "execution_count": null,
   "metadata": {},
   "outputs": [],
   "source": [
    "# Age vs Sex swarm plot\n",
    "\n",
    "plot_swarm_survivors(train_df, \"Sex\", \"Age\", \"Survivor Swarmplot for Age and Gender\")\n",
    "\n",
    "# Looking at the results we can see that age holds valuable information. \n",
    "# The swarm plot above shows that a big portion of male survivors are passengers between 0 and 12 years of age. \n",
    "# It’s also interesting to see that the oldest passenger, a 80 year old man survived.\n",
    "\n",
    "# Looking at the swarm plot below we can see how important the Pclass is when it comes to predicting the likelihood of survival. \n",
    "# One additional piece of information from the swarm plot below is that the first-class did not have a lot of children. \n",
    "# Maybe rich people get fewer kids in general?"
   ]
  },
  {
   "cell_type": "code",
   "execution_count": null,
   "metadata": {},
   "outputs": [],
   "source": [
    "plot_swarm_survivors(train_df, \"Age\", \"Pclass\", \"Survivor Swarmplot for Age and Gender\")"
   ]
  },
  {
   "cell_type": "code",
   "execution_count": null,
   "metadata": {},
   "outputs": [],
   "source": [
    "# Question 6: Did paying the ticket price influence the chance of survival?\n",
    "\n",
    "train_df.Fare.describe()"
   ]
  },
  {
   "cell_type": "code",
   "execution_count": null,
   "metadata": {},
   "outputs": [],
   "source": [
    "# Fare distribution\n",
    "\n",
    "\n",
    "plot_distribution(train_df, \"Fare\", \"Fare Distribution Passengers\")\n",
    "\n",
    "'''\n",
    "Fare does not follow a normal distribution and has a huge spike at the price range [0–100$].\n",
    "\n",
    "The distribution is skewed to the right with 75% of the fare paid under 31% and a max paid fare of 512$. \n",
    "Depending on the model that I’m going to use it might make sense to normalize this feature. However, \n",
    "this aspect will be tackled later in the feature engineering section.\n",
    "\n",
    "To better understand how this feature influences the survival rate, we could plot bar plots of Fare vs Survived. \n",
    "Due to the large range of fares such as plot would not be useful for inferring useful information. \n",
    "A better suited visualization would be to combine fares into categories and then plot the categories vs Survived.\n",
    "\n",
    "Categorising a continuous numerical feature is called binning and it’s a commonly used feature engineering technique . \n",
    "As usual sometimes it helps your model and sometimes it does not. \n",
    "That’s the cool part about Machine Learning, there is no clear cut answer and doing good experiments will lead you towards the right direction.\n",
    "'''"
   ]
  },
  {
   "cell_type": "code",
   "execution_count": null,
   "metadata": {},
   "outputs": [],
   "source": [
    "# Function to create a categorical fare feature of 4 distinct categories\n",
    "def plot_quartiles(dataset, feature, title, categories):\n",
    "    fig, axarr = plt.subplots(figsize=(5,5))\n",
    "    fare_ranges = pd.qcut(dataset[feature], len(categories), labels = categories)  #[0, .25, .5, .75, 1]\n",
    "    axarr.set_title(title)\n",
    "    sns.barplot(x=fare_ranges, y=dataset.Survived, ci=None, ax=axarr).set_ylabel('Survival rate')"
   ]
  },
  {
   "cell_type": "code",
   "execution_count": null,
   "metadata": {},
   "outputs": [],
   "source": [
    "# Bar plot fare categories\n",
    "\n",
    "categories = ['Cheap', 'Standard', 'Expensive', 'Luxury']\n",
    "\n",
    "plot_quartiles(train_df, 'Fare', 'Survival Rate by Fare Ranges/Categories', categories)"
   ]
  },
  {
   "cell_type": "code",
   "execution_count": null,
   "metadata": {},
   "outputs": [],
   "source": [
    "'''\n",
    "Key observations:\n",
    "\n",
    "Cheap (0–25% of max Price): Surival Rate = 0.2 (approx)\n",
    "Standard (25%-50% of max Price): Surival Rate = 0.3 (approx)\n",
    "Expensive (50%-75% of max Price): Surival Rate = 0.45 (approx)\n",
    "Luxury (75%-100% of max Price): Surival Rate = 0.55 (approx)\n",
    "'''"
   ]
  },
  {
   "cell_type": "code",
   "execution_count": null,
   "metadata": {},
   "outputs": [],
   "source": [
    "# Age vs Sex swarm plot\n",
    "\n",
    "plot_swarm_survivors(train_df, 'Fare', 'Sex', 'Survivor Swarmplot for Age and Gender')"
   ]
  },
  {
   "cell_type": "code",
   "execution_count": null,
   "metadata": {},
   "outputs": [],
   "source": [
    "'''\n",
    "Key observations:\n",
    "\n",
    "Irrespective of gender all passengers with a fare above 500$ survived.\n",
    "All male passenger that paid between 200–300$ died\n",
    "All female passenger that paid between 200–300$ survived\n",
    "'''"
   ]
  },
  {
   "cell_type": "code",
   "execution_count": null,
   "metadata": {},
   "outputs": [],
   "source": [
    "'''\n",
    "This could be potentially be a pattern a classifier might pick up. \n",
    "One thing that caught my attention is that the minimum fare paid was 0.0 $. \n",
    "This seems highly unlikely.\n",
    "\n",
    "We can investigate who these people were:\n",
    "'''\n",
    "\n",
    "train_df.loc[train_df.Fare==0]"
   ]
  },
  {
   "cell_type": "code",
   "execution_count": null,
   "metadata": {},
   "outputs": [],
   "source": [
    "# Code to replace zero fare values with NaN’s\n",
    "train_df.loc[train_df['Fare'] == 0, 'Fare'] = np.NaN\n",
    "test_df.loc[test_df['Fare'] == 0, 'Fare'] = np.NaN\n"
   ]
  },
  {
   "cell_type": "code",
   "execution_count": null,
   "metadata": {},
   "outputs": [],
   "source": [
    "# Question 8: Could the place of embarkation influence the chance of survival?\n",
    "'''\n",
    "My reasoning and intuition would not make me believe that the place of embarkation matters at all, however, we must dedicate ourselves to not make assumptions about the data.\n",
    "\n",
    "One approach to analyze this is to use count plots for the 3 different locations of embarkation Southampton, Cherbourg and Queenstown:\n",
    "'''\n",
    "\n",
    "def show_countplot(dataset, feature, title, fsize = (5,5)):\n",
    "    fig, ax = plt.subplots(figsize=fsize)\n",
    "    sns.countplot(dataset[feature], ax=ax).set_title(title)\n",
    "\n",
    "def show_compare_countplot(dataset, feature1, feature2, title):\n",
    "    fig, ax = plt.subplots(figsize=(5,5))\n",
    "    p = sns.countplot(x = feature1, hue=feature2, data=dataset, ax=ax).set_title(title)"
   ]
  },
  {
   "cell_type": "code",
   "execution_count": null,
   "metadata": {},
   "outputs": [],
   "source": [
    "# Stackes bar plots for Embarked\n",
    "\n",
    "bar_chart_stacked(train_df, 'Embarked')"
   ]
  },
  {
   "cell_type": "code",
   "execution_count": null,
   "metadata": {},
   "outputs": [],
   "source": [
    "\n",
    "show_countplot(train_df, 'Embarked', 'Passengers count by boarding point')\n"
   ]
  },
  {
   "cell_type": "code",
   "execution_count": null,
   "metadata": {},
   "outputs": [],
   "source": [
    "# Count of passengers with respect to place of embarktion\n",
    "\n",
    "train_df['Embarked'].value_counts().to_frame()"
   ]
  },
  {
   "cell_type": "code",
   "execution_count": null,
   "metadata": {},
   "outputs": [],
   "source": [
    "# Question 9: Was the high number of survivors that embarked at Cherbourg due to a high number of 1. Class passengers?\n",
    "\n",
    "# Count plot for number of survivors with respect to place of embarktion and class\n",
    "\n",
    "show_compare_countplot(train_df, 'Embarked', 'Pclass', 'Passengers count by place of embarktion and class')\n"
   ]
  },
  {
   "cell_type": "code",
   "execution_count": null,
   "metadata": {},
   "outputs": [],
   "source": [
    "# Count for number of survivors with respect to place of embarktion and class\n",
    "\n",
    "train_df.groupby(['Embarked', 'Pclass']).Survived.sum().to_frame()"
   ]
  },
  {
   "cell_type": "code",
   "execution_count": null,
   "metadata": {},
   "outputs": [],
   "source": [
    "'''\n",
    "The hypothesis seems to be correct.\n",
    "\n",
    "The majority embarked at Cherbourg were 1. class passengers.\n",
    "The majority embarked at Southampton were 3. class passengers.\n",
    "However, it does not explain why the survival rate for Queenstown passengers is slightly higher than at Southampton even though the number of 1. class passenger in relation to 3. class passengers is higher for Southampton.\n",
    "\n",
    "One explanation might be that the ratio between male and female passengers differs.\n",
    "'''"
   ]
  },
  {
   "cell_type": "code",
   "execution_count": null,
   "metadata": {},
   "outputs": [],
   "source": [
    "# Question 10: Is gender distribution responsible for the slightly higher passenger survival rate in Queenstown compared to Southampton?\n",
    "\n",
    "# Passenger count by class and place of embarktion\n",
    "\n",
    "show_compare_countplot(train_df, 'Embarked', 'Sex', 'Passenger count by place of embarktion and class')"
   ]
  },
  {
   "cell_type": "code",
   "execution_count": null,
   "metadata": {},
   "outputs": [],
   "source": [
    "# Question 11: Does the number of children/siblings/spouses or parents on board influence the chance of survival?\n",
    "\n",
    "# Count plot for survival rate vs SubSp\n",
    "\n",
    "bar_chart_compare(train_df, \"SibSp\")"
   ]
  },
  {
   "cell_type": "code",
   "execution_count": null,
   "metadata": {},
   "outputs": [],
   "source": [
    "# Count plot for SubSp\n",
    "\n",
    "show_countplot(train_df, \"SibSp\", 'SibSp Distribution', (15,3))"
   ]
  },
  {
   "cell_type": "code",
   "execution_count": null,
   "metadata": {},
   "outputs": [],
   "source": [
    "# Count plot for survival rate vs SubSp\n",
    "\n",
    "\n",
    "show_compare_countplot(train_df, \"SibSp\", \"Survived\", \"survived count by number of siblings / spouses aboard the Titanic\")"
   ]
  },
  {
   "cell_type": "code",
   "execution_count": null,
   "metadata": {},
   "outputs": [],
   "source": [
    "'''\n",
    "As we can see from the plots above, the majority of passengers traveled alone. It seems that, the more siblings a passenger has the less chance of survival there is.\n",
    "\n",
    "Parch:\n",
    "'''\n",
    "\n",
    "# Count plot for survival Parch\n",
    "# show_countplot(train_df, \"Parch Distribution\", (15,3))"
   ]
  },
  {
   "cell_type": "code",
   "execution_count": null,
   "metadata": {},
   "outputs": [],
   "source": [
    "'''\n",
    "Similar to the SibSp column, this feature contains the number of parents or children each passenger was traveling with.\n",
    "'''\n",
    "\n",
    "# Count plot for survival rate vs Parch\n",
    "\n",
    "bar_chart_compare(train_df, \"Parch\")\n"
   ]
  },
  {
   "cell_type": "code",
   "execution_count": null,
   "metadata": {},
   "outputs": [],
   "source": [
    "# Count plot for survival rate vs Parch\n",
    "\n",
    "show_compare_countplot(train_df, 'Parch', 'Survived', 'Survivor count by Parch')\n"
   ]
  },
  {
   "cell_type": "code",
   "execution_count": null,
   "metadata": {},
   "outputs": [],
   "source": [
    "'''\n",
    "Here we draw the same conclusions as for Parch as for SibSp. We can see again that small families had more chances to survive than bigger ones and passengers who traveled alone.\n",
    "\n",
    "Later in the feature engineering part we will think about how to combine Parch and SibSp to a new feature that utilizes the information of both features.\n",
    "'''"
   ]
  },
  {
   "cell_type": "code",
   "execution_count": null,
   "metadata": {},
   "outputs": [],
   "source": [
    "'''\n",
    "3. Feature Engineering\n",
    "3.1 Feature Name:\n",
    "One feature that we did not consider until now is the name. In theory, a person’s name should have no influence on the probability of survival, but on closer investigation we see that a title is sometimes hidden in the name, which in turn could be quite useful. However, using the different names as categorical variables does not make sense. One idea is to extract the title from the name.\n",
    "'''"
   ]
  },
  {
   "cell_type": "code",
   "execution_count": null,
   "metadata": {},
   "outputs": [],
   "source": [
    "# Sample titles\n",
    "pd.unique(train_df['Name'])"
   ]
  },
  {
   "cell_type": "code",
   "execution_count": null,
   "metadata": {},
   "outputs": [],
   "source": [
    "# Code to extract title from name\n",
    "\n",
    "train_df['Title'] = train_df['Name'].apply(lambda x: x.split(',')[1].split('.')[0].strip())\n",
    "test_df['Title'] = test_df['Name'].apply(lambda x: x.split(',')[1].split('.')[0].strip())\n"
   ]
  },
  {
   "cell_type": "code",
   "execution_count": null,
   "metadata": {},
   "outputs": [],
   "source": [
    "# Train dataframe sample titles after feature engineering\n",
    "train_df.head()"
   ]
  },
  {
   "cell_type": "code",
   "execution_count": null,
   "metadata": {},
   "outputs": [],
   "source": [
    "'''\n",
    "If we now look at the count plot of the new title feature we see that certain titles dominate.\n",
    "'''\n",
    "\n",
    "# Count plot for titles after feature engineering\n",
    "\n",
    "show_countplot(train_df, \"Title\", 'Title Distribution', (15,3))"
   ]
  },
  {
   "cell_type": "code",
   "execution_count": null,
   "metadata": {},
   "outputs": [],
   "source": [
    "# Count plot after grouping titles to frequent groups\n",
    "\n",
    "show_countplot(train_df, \"Title\", \"Title Distribution after substitution\", (15,3))"
   ]
  },
  {
   "cell_type": "code",
   "execution_count": null,
   "metadata": {},
   "outputs": [],
   "source": [
    "'''\n",
    "Finally, let’s investigate the title feature and the survival rate together\n",
    "'''\n",
    "# Bar plot surival rate vs title\n",
    "\n",
    "# bar_chart_compare(train_df, 'Title', 'Title Distribution after substitution')"
   ]
  },
  {
   "cell_type": "code",
   "execution_count": null,
   "metadata": {},
   "outputs": [],
   "source": [
    "'''\n",
    "Key observations:\n",
    "\n",
    "Female titles result in a higher survival rate.\n",
    "Master and Dr have a surprisingly high survival rate even tough both are male titles.\n",
    "Being “just” a Mr results in a bad survival rate of approx 15%\n",
    "All 6 revenants died. Maybe they decided to accept their destiny and wanted to die with dignity.\n",
    "'''"
   ]
  },
  {
   "cell_type": "code",
   "execution_count": null,
   "metadata": {},
   "outputs": [],
   "source": [
    "# Feature Cabin and Ticket:\n",
    "\n",
    "train_df[['Cabin', 'Ticket']].head()"
   ]
  },
  {
   "cell_type": "code",
   "execution_count": null,
   "metadata": {},
   "outputs": [],
   "source": [
    "'''\n",
    "As we can see both features are not easy to deal with. Cabin contains a lot of NaN’s and the ticket seems not to provide any useful information.\n",
    "\n",
    "We can try different ideas:\n",
    "\n",
    "Extract two leading letters to create a new feature\n",
    "Extract number of letter in ticket to create a new features\n",
    "Extract number of cabins used\n",
    "Extract Cabin letter\n",
    "'''"
   ]
  },
  {
   "cell_type": "code",
   "execution_count": null,
   "metadata": {},
   "outputs": [],
   "source": [
    "# Ticket and Cabin engineered new features that could be tried out using experiments\n",
    "\n",
    "# Extract Leading Letter:\n",
    "train_df['Ticket_2letter'] = train_df.Ticket.apply(lambda x: x[:2])\n",
    "test_df['Ticket_2letter'] = test_df.Ticket.apply(lambda x: x[:2])"
   ]
  },
  {
   "cell_type": "code",
   "execution_count": null,
   "metadata": {},
   "outputs": [],
   "source": [
    "# Extract Ticket lenght:\n",
    "train_df['Ticket_len'] = train_df.Ticket.apply(lambda x: len(x))\n",
    "test_df['Ticket_len'] = test_df.Ticket.apply(lambda x: len(x))\n",
    "\n"
   ]
  },
  {
   "cell_type": "code",
   "execution_count": null,
   "metadata": {},
   "outputs": [],
   "source": [
    "# Extract Number of Cabins:\n",
    "train_df['Cabin_num'] = train_df.Ticket.apply(lambda x: len(x.split()))\n",
    "test_df['Cabin_num'] = test_df.Ticket.apply(lambda x: len(x.split()))"
   ]
  },
  {
   "cell_type": "code",
   "execution_count": null,
   "metadata": {},
   "outputs": [],
   "source": [
    "# Extract cabin Leading Letter:\n",
    "train_df['Cabin_1letter'] = train_df.Ticket.apply(lambda x: x[:1])\n",
    "test_df['Cabin_1letter'] = test_df.Ticket.apply(lambda x: x[:1])"
   ]
  },
  {
   "cell_type": "code",
   "execution_count": null,
   "metadata": {},
   "outputs": [],
   "source": [
    "'''\n",
    "Feature Family Size:\n",
    "As mentioned in section 2.11, Parch and SibSp can be combined to a new feature to capture the information of both. We can calculate the size of the family by arithmetically adding both features:\n",
    "'''"
   ]
  },
  {
   "cell_type": "code",
   "execution_count": null,
   "metadata": {},
   "outputs": [],
   "source": [
    "train_df['Fam_size'] = train_df['SibSp'] + train_df['Parch'] + 1\n",
    "test_df['Fam_size'] = test_df['SibSp'] + test_df['Parch'] + 1"
   ]
  },
  {
   "cell_type": "code",
   "execution_count": null,
   "metadata": {},
   "outputs": [],
   "source": [
    "# Bar plot family size vs surival rate\n",
    "bar_chart_compare(train_df, 'Fam_size')"
   ]
  },
  {
   "cell_type": "code",
   "execution_count": null,
   "metadata": {},
   "outputs": [],
   "source": [
    "# Count plot family size vs survivors\n",
    "\n",
    "show_compare_countplot(train_df, 'Fam_size', 'Survived', 'Survivor count by family size')"
   ]
  },
  {
   "cell_type": "code",
   "execution_count": null,
   "metadata": {},
   "outputs": [],
   "source": [
    "# Feature Family Type:\n",
    "\n",
    "# Creation of the groups\n",
    "train_df['Fam_type'] = pd.cut(train_df.Fam_size, [0,1,4,7,11], labels=['Solo', 'Small', 'Big', 'Very big'])\n",
    "test_df['Fam_type'] = pd.cut(test_df.Fam_size, [0,1,4,7,11], labels=['Solo', 'Small', 'Big', 'Very big'])\n",
    "\n",
    "# Bar plot survival rate vs family type\n",
    "bar_chart_compare(train_df, 'Fam_type')\n"
   ]
  },
  {
   "cell_type": "code",
   "execution_count": null,
   "metadata": {},
   "outputs": [],
   "source": [
    "'''\n",
    "In a similar way we can create a new categorical feature that encodes the family size into 4 distinct groups.\n",
    "'''"
   ]
  },
  {
   "cell_type": "code",
   "execution_count": null,
   "metadata": {},
   "outputs": [],
   "source": [
    "'''\n",
    "Training a Classifier\n",
    "Although we have a relatively large number of features available in relation to the size of the dataset, it does not necessarily make sense to use all of them (See discussion in section 2)\n",
    "\n",
    "We start by selecting the features we will use and isolating the target:\n",
    "\n",
    "‘Pclass’, ‘Fare’, ‘Title’, ‘Embarked’, ‘Fam_type’, ‘Ticket_len’, ‘Ticket_2letter’\n",
    "Cabin will not be used and the relevant information about the feature age (which is being a young man) is already encoded in the title feature\n",
    "Sex will not be used to not confuse the classifier as adult males and young boys the same sex but are really different categories\n",
    "'''"
   ]
  },
  {
   "cell_type": "code",
   "execution_count": null,
   "metadata": {},
   "outputs": [],
   "source": [
    "# Final train dataframe\n",
    "y = train_df['Survived']\n",
    "features = ['Pclass', \"Fare\", 'Title', 'Embarked', 'Fam_type', 'Ticket_len', 'Ticket_2letter']\n",
    "X = train_df[features]\n",
    "X.head()"
   ]
  },
  {
   "cell_type": "code",
   "execution_count": null,
   "metadata": {},
   "outputs": [],
   "source": [
    "'''\n",
    "The last step before fitting a model is to prepare a pipeline that will make sure that all the preprocessing performed on the training data is also done on the test data:\n",
    "'''"
   ]
  },
  {
   "cell_type": "code",
   "execution_count": null,
   "metadata": {},
   "outputs": [],
   "source": [
    "numerical_cols = ['Fare']\n",
    "categorical_cols = ['Pclass', 'Title', 'Embarked', 'Fam_type', 'Ticket_len', 'Ticket_2letter']\n",
    "\n",
    "# Inputing numerical vales with median\n",
    "numerical_transformer = SimpleImputer(strategy='median')\n",
    "\n",
    "# Inputing missing values with most frequent one for categorical data\n",
    "categorical_transformer = Pipeline(steps=[\n",
    "    ('imputer', SimpleImputer(strategy='most_frequent')),\n",
    "    ('onehot', OneHotEncoder(handle_unknown='ignore'))\n",
    "])\n",
    "\n",
    "# Bundle preprocessing for numerical and categorical data\n",
    "preprocesor = ColumnTransformer(\n",
    "    transformers=[\n",
    "        ('num', numerical_transformer, numerical_cols),\n",
    "        ('cat', categorical_transformer, categorical_cols)\n",
    "])\n",
    "\n",
    "\n",
    "# Bundle preprocessing and modeling code\n",
    "titanic_pipeline = Pipeline(steps=[\n",
    "    ('preprocessor', preprocesor),\n",
    "    ('model', GradientBoostingClassifier(random_state=0))\n",
    "])\n",
    "\n",
    "\n",
    "param_grid = {\n",
    "            'model__learning_rate': [0.01, 0.02, 0.03],\n",
    "            'model__subsample': [0.1, 0.2, 0.3],\n",
    "            'model__n_estimators': [50, 100, 200, 500],\n",
    "            'model__max_depth': [4, 6, 9, 12],\n",
    "            \n",
    "        }\n",
    "\n",
    "\n",
    "grid_search = GridSearchCV(titanic_pipeline, param_grid, cv=5, scoring='accuracy', n_jobs=-1, verbose=3)\n",
    "\n",
    "grid_search.fit(X, y)\n",
    "\n",
    "\n",
    "\n",
    "# Display more information during execution\n",
    "print(f'Best Accuracy: {grid_search.best_score_}')\n",
    "print('Best Parameters:', grid_search.best_params_)\n",
    "\n",
    "# Get detailed classification report\n",
    "X_test = test_df[features]\n",
    "y_pred = grid_search.predict(X_test)\n",
    "\n",
    "\n",
    "\n",
    "\n"
   ]
  },
  {
   "cell_type": "code",
   "execution_count": null,
   "metadata": {},
   "outputs": [],
   "source": [
    "output = pd.DataFrame({'PassengerId': test_df.PassengerId, 'Survived': y_pred })\n",
    "output.to_csv(f'submission_{grid_search.best_score_}_LR.csv', index=False)\n",
    "print('Your submission was successfully saved!')"
   ]
  }
 ],
 "metadata": {
  "kernelspec": {
   "display_name": ".venv",
   "language": "python",
   "name": "python3"
  },
  "language_info": {
   "codemirror_mode": {
    "name": "ipython",
    "version": 3
   },
   "file_extension": ".py",
   "mimetype": "text/x-python",
   "name": "python",
   "nbconvert_exporter": "python",
   "pygments_lexer": "ipython3",
   "version": "3.10.12"
  }
 },
 "nbformat": 4,
 "nbformat_minor": 2
}
